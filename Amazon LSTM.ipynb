{
 "cells": [
  {
   "cell_type": "markdown",
   "metadata": {},
   "source": [
    "# LSTM of Amazon Data, Trained Purely Off of Amazon Ratings\n"
   ]
  },
  {
   "cell_type": "markdown",
   "metadata": {},
   "source": [
    "import AmazonCode.preprocessing\n",
    "import sys"
   ]
  },
  {
   "cell_type": "code",
   "execution_count": null,
   "metadata": {},
   "outputs": [],
   "source": [
    "import AmazonCode.preprocessing\n",
    "import sys\n",
    "\n",
    "try:\n",
    "    filename = str(sys.argv[1])\n",
    "    noOfTerms = int(sys.argv[2])\n",
    "    assert(type(noOfTerms)==int)\n",
    "    print(\"Taking \",noOfTerms,\" from amazon dataset \",filename )\n",
    "    words_df = preprocessing.getDfFromJSON(filename)\n",
    "    if noOfTerms!=1:\n",
    "        words_df = words_df[:noOfTerms]\n",
    "    else:\n",
    "        noOfTerms = len(words_df)\n",
    "    # for text in words_df['reviewText'][4]\n",
    "    # preprocessing.preprocessForSentimentAnalsis(words_df['reviewText'][4], preprocessing.stopwords,preprocessing.lemmatizer);\n",
    "    words_df['documents']=words_df['reviewText'].map(preprocessing.preprocess)\n",
    "    words_df.to_csv(filename[:-8]+str(noOfTerms)+'.csv',index=False)\n",
    "except(KeyError, IndexError):\n",
    "    print(\"No argument given, or file not found\")\n"
   ]
  },
  {
   "cell_type": "code",
   "execution_count": null,
   "metadata": {},
   "outputs": [],
   "source": []
  }
 ],
 "metadata": {
  "kernelspec": {
   "display_name": "Python 3",
   "language": "python",
   "name": "python3"
  },
  "language_info": {
   "codemirror_mode": {
    "name": "ipython",
    "version": 3
   },
   "file_extension": ".py",
   "mimetype": "text/x-python",
   "name": "python",
   "nbconvert_exporter": "python",
   "pygments_lexer": "ipython3",
   "version": "3.8.3"
  }
 },
 "nbformat": 4,
 "nbformat_minor": 4
}
